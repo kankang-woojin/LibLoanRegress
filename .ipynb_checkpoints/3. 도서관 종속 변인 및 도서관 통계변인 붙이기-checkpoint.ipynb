{
 "cells": [
  {
   "cell_type": "code",
   "execution_count": 1,
   "id": "ef965100",
   "metadata": {},
   "outputs": [],
   "source": [
    "import pandas as pd\n",
    "import numpy as np"
   ]
  },
  {
   "cell_type": "code",
   "execution_count": 2,
   "id": "042d3400",
   "metadata": {},
   "outputs": [
    {
     "data": {
      "text/html": [
       "<div>\n",
       "<style scoped>\n",
       "    .dataframe tbody tr th:only-of-type {\n",
       "        vertical-align: middle;\n",
       "    }\n",
       "\n",
       "    .dataframe tbody tr th {\n",
       "        vertical-align: top;\n",
       "    }\n",
       "\n",
       "    .dataframe thead th {\n",
       "        text-align: right;\n",
       "    }\n",
       "</style>\n",
       "<table border=\"1\" class=\"dataframe\">\n",
       "  <thead>\n",
       "    <tr style=\"text-align: right;\">\n",
       "      <th></th>\n",
       "    </tr>\n",
       "  </thead>\n",
       "  <tbody>\n",
       "  </tbody>\n",
       "</table>\n",
       "</div>"
      ],
      "text/plain": [
       "Empty DataFrame\n",
       "Columns: []\n",
       "Index: []"
      ]
     },
     "execution_count": 2,
     "metadata": {},
     "output_type": "execute_result"
    }
   ],
   "source": [
    "df = pd.DataFrame()\n",
    "df"
   ]
  },
  {
   "cell_type": "markdown",
   "id": "ff87140b",
   "metadata": {},
   "source": [
    "## 도서관 종속 변인 및 도서관 통제변인 붙이기\n",
    "#### 데이터 출처: 문화체육관광부, 국가도서관통계시스템\n",
    "\n",
    "* 2015 - 2018년 기준 데이터 수집"
   ]
  },
  {
   "cell_type": "markdown",
   "id": "e0212353",
   "metadata": {},
   "source": [
    "### 1) 도서관 종속 변인\n",
    "\n",
    "> KDC 대분류 별 대출권수\n",
    "\n",
    "### 2) 도서관 통제 변인\n",
    "\n",
    "> 도서 개수, 도서관 시설 부지, 도서관 연면적, 개관일수, 도서관 개수\n",
    "\n",
    "* 시군구별 도서관 데이터를 제작할 때 도서관 개수(count), 도서관 시설 부지, 도서관 연면적, 개관일수(mean),  KDC 대분류 별 대출권수, 도서 개수(sum) 을 사용함"
   ]
  },
  {
   "cell_type": "code",
   "execution_count": null,
   "id": "97a99a7d",
   "metadata": {},
   "outputs": [],
   "source": [
    "# 년도별 데이터 수집\n",
    "for i in range(2015,2019):\n",
    "    df= df.append(pd.read_excel('./data/public_library_statics/library_2015_2018_statics.xlsx',sheet_name=str(i)))\n",
    "df"
   ]
  },
  {
   "cell_type": "code",
   "execution_count": null,
   "id": "b00a4479",
   "metadata": {},
   "outputs": [],
   "source": [
    "# 시도 지명 바꾸기\n",
    "def city_sido_change(sido):\n",
    "    if sido =='서울':\n",
    "        sido = '서울특별시'\n",
    "    elif sido =='인천':\n",
    "        sido = '인천광역시'\n",
    "    elif sido =='경기':\n",
    "        sido ='경기도'\n",
    "        \n",
    "    return sido\n",
    "\n",
    "# 시군구 지명 바꾸기\n",
    "def city_sgg_change(sido,sgg):\n",
    "    if (sido =='인천광역시')&(sgg=='남구'):\n",
    "        sgg='미추홀구'\n",
    "    elif (sido =='경기도')&(sgg=='여주군'):\n",
    "        sgg ='여주시'\n",
    "     \n",
    "    return sgg.split(' ')[0] #경기도 구 단위를 시단위로 올리기 위해"
   ]
  },
  {
   "cell_type": "code",
   "execution_count": null,
   "id": "de5c9bac",
   "metadata": {},
   "outputs": [],
   "source": [
    "# 공공 일반 도서관 만 가져오기\n",
    "df = df[(df['구분']=='공공(일반)')&(df['설립주체']!='사립')]\n",
    "df"
   ]
  },
  {
   "cell_type": "code",
   "execution_count": null,
   "id": "9961db6d",
   "metadata": {},
   "outputs": [],
   "source": [
    "df['설립주체'].unique()"
   ]
  },
  {
   "cell_type": "code",
   "execution_count": null,
   "id": "84bf9033",
   "metadata": {
    "scrolled": true
   },
   "outputs": [],
   "source": [
    "# 수도권 도서관만 가져오기\n",
    "df = df[(df['시도'] == '서울')|(df['시도'] == '경기')|(df['시도'] == '인천')]\n",
    "df"
   ]
  },
  {
   "cell_type": "code",
   "execution_count": null,
   "id": "0ef95e02",
   "metadata": {
    "scrolled": true
   },
   "outputs": [],
   "source": [
    "# 시도 시군구 이름 변경\n",
    "df['시도'] = df['시도'].apply(lambda x:(city_sido_change(x)))\n",
    "df['시군구'] = df.apply(lambda x:(city_sgg_change(x['시도'],x['시군구'])), axis=1)\n",
    "\n",
    "df"
   ]
  },
  {
   "cell_type": "code",
   "execution_count": null,
   "id": "3951973c",
   "metadata": {},
   "outputs": [],
   "source": [
    "# 정보를 붙이기 위한 지역 코드 불러오기\n",
    "kor_city_adcode = pd.read_csv('./data/korea_city/kor_city.csv', dtype=str)\n",
    "\n",
    "kor_city_adcode"
   ]
  },
  {
   "cell_type": "code",
   "execution_count": null,
   "id": "83dd20f5",
   "metadata": {},
   "outputs": [],
   "source": [
    "# 시군구 단위 행정코드 가져오기\n",
    "kor_city_adcode['code_len'] = kor_city_adcode['행정구역코드'].apply(lambda x:len(x))\n",
    "kor_city_adcode = kor_city_adcode[kor_city_adcode['code_len']==5].reset_index().drop(columns=['code_len','index'])\n",
    "kor_city_adcode"
   ]
  },
  {
   "cell_type": "code",
   "execution_count": null,
   "id": "1b1c9a30",
   "metadata": {},
   "outputs": [],
   "source": [
    "# 행정구역, 법정구역 코드 붙이기\n",
    "df_m_cd = pd.merge(df,kor_city_adcode[['시도','시군구','행정구역코드','법정구역코드']],on=['시도','시군구'],how='left')\n",
    "df_m_cd"
   ]
  },
  {
   "cell_type": "code",
   "execution_count": null,
   "id": "6afd452e",
   "metadata": {},
   "outputs": [],
   "source": [
    "df_m_cd['AGE'] = df_m_cd['년도'] - df_m_cd['개관년도'] + 1\n",
    "df_m_cd"
   ]
  },
  {
   "cell_type": "code",
   "execution_count": null,
   "id": "57a1d3f0",
   "metadata": {
    "scrolled": true
   },
   "outputs": [],
   "source": [
    "# 행정, 법정코드 빈값 확인\n",
    "print(df_m_cd.isna().sum())"
   ]
  },
  {
   "cell_type": "code",
   "execution_count": null,
   "id": "a9d4b53a",
   "metadata": {},
   "outputs": [],
   "source": [
    "df_m_cd.columns"
   ]
  },
  {
   "cell_type": "code",
   "execution_count": null,
   "id": "e81d9052",
   "metadata": {},
   "outputs": [],
   "source": [
    "df_m_cd['총_국내도서권수']=df_m_cd[['도서_국내_총류', '도서_국내_철학',\n",
    "       '도서_국내_종교', '도서_국내_사회과학', '도서_국내_순수과학', '도서_국내_기술과학', '도서_국내_예술',\n",
    "       '도서_국내_언어', '도서_국내_문학', '도서_국내_역사']].sum(axis=1)\n",
    "\n",
    "df_m_cd"
   ]
  },
  {
   "cell_type": "code",
   "execution_count": null,
   "id": "1ef01756",
   "metadata": {},
   "outputs": [],
   "source": [
    "df_m_cd['총_대출권수']=df_m_cd[['대출권수_어린이_총류', '대출권수_어린이_철학',\n",
    "       '대출권수_어린이_종교', '대출권수_어린이_사회과학', '대출권수_어린이_순수과학', '대출권수_어린이_기술과학',\n",
    "       '대출권수_어린이_예술', '대출권수_어린이_언어', '대출권수_어린이_문학', '대출권수_어린이_역사',\n",
    "       '대출권수_청소년_총류', '대출권수_청소년_철학', '대출권수_청소년_종교', '대출권수_청소년_사회과학',\n",
    "       '대출권수_청소년_순수과학', '대출권수_청소년_기술과학', '대출권수_청소년_예술', '대출권수_청소년_언어',\n",
    "       '대출권수_청소년_문학', '대출권수_청소년_역사', '대출권수_성인_총류', '대출권수_성인_철학', '대출권수_성인_종교',\n",
    "       '대출권수_성인_사회과학', '대출권수_성인_순수과학', '대출권수_성인_기술과학', '대출권수_성인_예술',\n",
    "       '대출권수_성인_언어', '대출권수_성인_문학', '대출권수_성인_역사']].sum(axis=1)\n",
    "\n",
    "df_m_cd"
   ]
  },
  {
   "cell_type": "code",
   "execution_count": null,
   "id": "dca8f8b1",
   "metadata": {},
   "outputs": [],
   "source": [
    "df_m_cd.to_excel('./data/result/library_info.xlsx',index=False)"
   ]
  },
  {
   "cell_type": "code",
   "execution_count": null,
   "id": "ac14a89d",
   "metadata": {},
   "outputs": [],
   "source": [
    "# 시군구 도서관 개수 세기\n",
    "city_lib_num = df_m_cd[['년도','시도','시군구','행정구역코드','법정구역코드','연번']].groupby(['년도','시도','시군구','행정구역코드','법정구역코드']).count().reset_index().rename(columns={\"연번\":\"도서관 수\"})\n",
    "city_lib_num"
   ]
  },
  {
   "cell_type": "code",
   "execution_count": null,
   "id": "4d730ff6",
   "metadata": {},
   "outputs": [],
   "source": [
    "# 시군구 도서관 개수 세기\n",
    "city_lib_cont = df_m_cd[['년도','시도','시군구','행정구역코드','법정구역코드','시설_도서관부지면적', '시설_연면적', '개관일수','AGE']].groupby(['년도','시도','시군구','행정구역코드','법정구역코드']).mean().reset_index()\n",
    "city_lib_cont"
   ]
  },
  {
   "cell_type": "code",
   "execution_count": null,
   "id": "272bc8fa",
   "metadata": {},
   "outputs": [],
   "source": [
    "# 도서관 대출권수 개수\n",
    "city_loan_count = df_m_cd[['년도','시도','시군구','행정구역코드','법정구역코드', '도서_국내_총류', '도서_국내_철학',\n",
    "       '도서_국내_종교', '도서_국내_사회과학', '도서_국내_순수과학', '도서_국내_기술과학', '도서_국내_예술',\n",
    "       '도서_국내_언어', '도서_국내_문학', '도서_국내_역사','대출권수_어린이_총류', '대출권수_어린이_철학',\n",
    "       '대출권수_어린이_종교', '대출권수_어린이_사회과학', '대출권수_어린이_순수과학', '대출권수_어린이_기술과학',\n",
    "       '대출권수_어린이_예술', '대출권수_어린이_언어', '대출권수_어린이_문학', '대출권수_어린이_역사',\n",
    "       '대출권수_청소년_총류', '대출권수_청소년_철학', '대출권수_청소년_종교', '대출권수_청소년_사회과학',\n",
    "       '대출권수_청소년_순수과학', '대출권수_청소년_기술과학', '대출권수_청소년_예술', '대출권수_청소년_언어',\n",
    "       '대출권수_청소년_문학', '대출권수_청소년_역사', '대출권수_성인_총류', '대출권수_성인_철학', '대출권수_성인_종교',\n",
    "       '대출권수_성인_사회과학', '대출권수_성인_순수과학', '대출권수_성인_기술과학', '대출권수_성인_예술',\n",
    "       '대출권수_성인_언어', '대출권수_성인_문학', '대출권수_성인_역사','총_국내도서권수','총_대출권수']].groupby(['년도','시도','시군구','행정구역코드','법정구역코드']).sum().reset_index()\n",
    "city_loan_count"
   ]
  },
  {
   "cell_type": "code",
   "execution_count": null,
   "id": "1d3b29b4",
   "metadata": {},
   "outputs": [],
   "source": [
    "city_lib_info = pd.merge(city_lib_num,city_lib_cont, on=['년도','시도','시군구','행정구역코드','법정구역코드'], how='outer')\n",
    "city_lib_info = pd.merge(city_lib_info,city_loan_count, on=['년도','시도','시군구','행정구역코드','법정구역코드'], how='outer')\n",
    "city_lib_info"
   ]
  },
  {
   "cell_type": "code",
   "execution_count": null,
   "id": "e4831d75",
   "metadata": {},
   "outputs": [],
   "source": [
    "city_lib_info.isna().sum()"
   ]
  },
  {
   "cell_type": "code",
   "execution_count": null,
   "id": "f1480e10",
   "metadata": {
    "scrolled": false
   },
   "outputs": [],
   "source": [
    "city_lib_info.to_excel('./data/result/city_lib_info.xlsx', index=False)"
   ]
  }
 ],
 "metadata": {
  "kernelspec": {
   "display_name": "Python 3",
   "language": "python",
   "name": "python3"
  },
  "language_info": {
   "codemirror_mode": {
    "name": "ipython",
    "version": 3
   },
   "file_extension": ".py",
   "mimetype": "text/x-python",
   "name": "python",
   "nbconvert_exporter": "python",
   "pygments_lexer": "ipython3",
   "version": "3.8.8"
  }
 },
 "nbformat": 4,
 "nbformat_minor": 5
}
